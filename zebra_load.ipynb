{
 "cells": [
  {
   "cell_type": "markdown",
   "id": "e127273b",
   "metadata": {},
   "source": [
    "## ZebraLogic puzzle experiment 01\n",
    "\n",
    "Based on https://huggingface.co/blog/yuchenlin/zebra-logic\n",
    "\n",
    "Goal: Solve Zebra Puzzle 2x2 with model via OpenAI API\n",
    "\n",
    "- [x] review datasets and fint right way to access\n",
    "- [x] load zebra puzzle 2x2 dataset with solutions\n",
    "- [x] construct prompt for solving puzzle and try\n",
    "- [x] write simple code using OpenAI API to solve\n",
    "- [x] extract code to utils and parametrize size\n",
    "- [x] experiment reasoning on 6*6 puzzle\n",
    "- [x] try 2*2 with and without reasoning\n",
    "- [x] KISS-design experiment and results storage\n"
   ]
  },
  {
   "cell_type": "code",
   "execution_count": 2,
   "id": "6843f838",
   "metadata": {},
   "outputs": [
    {
     "name": "stdout",
     "output_type": "stream",
     "text": [
      "{'parquet_files': [{'dataset': 'WildEval/ZebraLogic', 'config': 'grid_mode', 'split': 'test', 'url': 'https://huggingface.co/datasets/WildEval/ZebraLogic/resolve/refs%2Fconvert%2Fparquet/grid_mode/test/0000.parquet', 'filename': '0000.parquet', 'size': 345826}, {'dataset': 'WildEval/ZebraLogic', 'config': 'mc_mode', 'split': 'test', 'url': 'https://huggingface.co/datasets/WildEval/ZebraLogic/resolve/refs%2Fconvert%2Fparquet/mc_mode/test/0000.parquet', 'filename': '0000.parquet', 'size': 826292}], 'pending': [], 'failed': [], 'partial': False}\n"
     ]
    }
   ],
   "source": [
    "# Followed code based on https://deepseekpro.org/guide/working-with-hugging-face-datasets/\n",
    "# Dataset from https://huggingface.co/datasets/WildEval/ZebraLogic\n",
    "import requests\n",
    "\n",
    "r = requests.get(\"https://datasets-server.huggingface.co/parquet?dataset=WildEval/ZebraLogic\")\n",
    "j = r.json()\n",
    "\n",
    "print(j)"
   ]
  },
  {
   "cell_type": "code",
   "execution_count": 3,
   "id": "648df673",
   "metadata": {},
   "outputs": [
    {
     "data": {
      "text/plain": [
       "['https://huggingface.co/datasets/WildEval/ZebraLogic/resolve/refs%2Fconvert%2Fparquet/grid_mode/test/0000.parquet',\n",
       " 'https://huggingface.co/datasets/WildEval/ZebraLogic/resolve/refs%2Fconvert%2Fparquet/mc_mode/test/0000.parquet']"
      ]
     },
     "execution_count": 3,
     "metadata": {},
     "output_type": "execute_result"
    }
   ],
   "source": [
    "# https://huggingface.co/api/datasets/WildEval/ZebraLogic/parquet/grid_mode/test\n",
    "# https://huggingface.co/datasets/WildEval/ZebraLogic/resolve/refs%2Fconvert%2Fparquet/grid_mode/test/0000.parquet\n",
    "# https://huggingface.co/datasets/WildEval/ZebraLogic/resolve/refs%2Fconvert%2Fparquet/mc_mode/test/0000.parquet \n",
    "\n",
    "urls = [f['url'] for f in j['parquet_files'] if f['split'] == 'test']\n",
    "urls"
   ]
  },
  {
   "cell_type": "code",
   "execution_count": null,
   "id": "b03d3376",
   "metadata": {},
   "outputs": [],
   "source": [
    "r = requests.get(urls[0])\n",
    "with open('datasets/zebra_grid_mode.parquet', 'wb') as f:\n",
    "  f.write(r.content)\n",
    "\n",
    "r = requests.get(urls[1])\n",
    "with open('datasets/zebra_mc_mode.parquet', 'wb') as f:\n",
    "  f.write(r.content)"
   ]
  },
  {
   "cell_type": "code",
   "execution_count": null,
   "id": "a3e8d3ae",
   "metadata": {},
   "outputs": [
    {
     "data": {
      "text/html": [
       "<div>\n",
       "<style scoped>\n",
       "    .dataframe tbody tr th:only-of-type {\n",
       "        vertical-align: middle;\n",
       "    }\n",
       "\n",
       "    .dataframe tbody tr th {\n",
       "        vertical-align: top;\n",
       "    }\n",
       "\n",
       "    .dataframe thead th {\n",
       "        text-align: right;\n",
       "    }\n",
       "</style>\n",
       "<table border=\"1\" class=\"dataframe\">\n",
       "  <thead>\n",
       "    <tr style=\"text-align: right;\">\n",
       "      <th></th>\n",
       "      <th>id</th>\n",
       "      <th>size</th>\n",
       "      <th>puzzle</th>\n",
       "      <th>solution</th>\n",
       "      <th>created_at</th>\n",
       "    </tr>\n",
       "  </thead>\n",
       "  <tbody>\n",
       "    <tr>\n",
       "      <th>0</th>\n",
       "      <td>lgp-test-5x6-16</td>\n",
       "      <td>5*6</td>\n",
       "      <td>There are 5 houses, numbered 1 to 5 from left ...</td>\n",
       "      <td>{'header': ['House', 'Name', 'Nationality', 'B...</td>\n",
       "      <td>2024-07-03T21:21:29.209499</td>\n",
       "    </tr>\n",
       "    <tr>\n",
       "      <th>1</th>\n",
       "      <td>lgp-test-4x4-27</td>\n",
       "      <td>4*4</td>\n",
       "      <td>There are 4 houses, numbered 1 to 4 from left ...</td>\n",
       "      <td>{'header': ['House', 'Name', 'Occupation', 'Bo...</td>\n",
       "      <td>2024-07-03T21:21:29.207505</td>\n",
       "    </tr>\n",
       "    <tr>\n",
       "      <th>2</th>\n",
       "      <td>lgp-test-6x4-15</td>\n",
       "      <td>6*4</td>\n",
       "      <td>There are 6 houses, numbered 1 to 6 from left ...</td>\n",
       "      <td>{'header': ['House', 'Name', 'Children', 'Musi...</td>\n",
       "      <td>2024-07-03T21:21:29.210360</td>\n",
       "    </tr>\n",
       "    <tr>\n",
       "      <th>3</th>\n",
       "      <td>lgp-test-6x5-2</td>\n",
       "      <td>6*5</td>\n",
       "      <td>There are 6 houses, numbered 1 to 6 from left ...</td>\n",
       "      <td>{'header': ['House', 'Name', 'Mother', 'Childr...</td>\n",
       "      <td>2024-07-03T21:21:29.210554</td>\n",
       "    </tr>\n",
       "    <tr>\n",
       "      <th>4</th>\n",
       "      <td>lgp-test-2x2-33</td>\n",
       "      <td>2*2</td>\n",
       "      <td>There are 2 houses, numbered 1 to 2 from left ...</td>\n",
       "      <td>{'header': ['House', 'Name', 'Pet'], 'rows': [...</td>\n",
       "      <td>2024-07-03T21:21:29.204640</td>\n",
       "    </tr>\n",
       "    <tr>\n",
       "      <th>...</th>\n",
       "      <td>...</td>\n",
       "      <td>...</td>\n",
       "      <td>...</td>\n",
       "      <td>...</td>\n",
       "      <td>...</td>\n",
       "    </tr>\n",
       "    <tr>\n",
       "      <th>995</th>\n",
       "      <td>lgp-test-3x4-1</td>\n",
       "      <td>3*4</td>\n",
       "      <td>There are 3 houses, numbered 1 to 3 from left ...</td>\n",
       "      <td>{'header': ['House', 'Name', 'Animal', 'Cigar'...</td>\n",
       "      <td>2024-07-03T21:21:29.206002</td>\n",
       "    </tr>\n",
       "    <tr>\n",
       "      <th>996</th>\n",
       "      <td>lgp-test-5x5-39</td>\n",
       "      <td>5*5</td>\n",
       "      <td>There are 5 houses, numbered 1 to 5 from left ...</td>\n",
       "      <td>{'header': ['House', 'Name', 'Birthday', 'Moth...</td>\n",
       "      <td>2024-07-03T21:21:29.209334</td>\n",
       "    </tr>\n",
       "    <tr>\n",
       "      <th>997</th>\n",
       "      <td>lgp-test-2x2-25</td>\n",
       "      <td>2*2</td>\n",
       "      <td>There are 2 houses, numbered 1 to 2 from left ...</td>\n",
       "      <td>{'header': ['House', 'Name', 'Vacation'], 'row...</td>\n",
       "      <td>2024-07-03T21:21:29.204603</td>\n",
       "    </tr>\n",
       "    <tr>\n",
       "      <th>998</th>\n",
       "      <td>lgp-test-2x4-34</td>\n",
       "      <td>2*4</td>\n",
       "      <td>There are 2 houses, numbered 1 to 2 from left ...</td>\n",
       "      <td>{'header': ['House', 'Name', 'PhoneModel', 'Oc...</td>\n",
       "      <td>2024-07-03T21:21:29.205053</td>\n",
       "    </tr>\n",
       "    <tr>\n",
       "      <th>999</th>\n",
       "      <td>lgp-test-5x3-14</td>\n",
       "      <td>5*3</td>\n",
       "      <td>There are 5 houses, numbered 1 to 5 from left ...</td>\n",
       "      <td>{'header': ['House', 'Name', 'Color', 'Cigar']...</td>\n",
       "      <td>2024-07-03T21:21:29.208547</td>\n",
       "    </tr>\n",
       "  </tbody>\n",
       "</table>\n",
       "<p>1000 rows × 5 columns</p>\n",
       "</div>"
      ],
      "text/plain": [
       "                  id size                                             puzzle  \\\n",
       "0    lgp-test-5x6-16  5*6  There are 5 houses, numbered 1 to 5 from left ...   \n",
       "1    lgp-test-4x4-27  4*4  There are 4 houses, numbered 1 to 4 from left ...   \n",
       "2    lgp-test-6x4-15  6*4  There are 6 houses, numbered 1 to 6 from left ...   \n",
       "3     lgp-test-6x5-2  6*5  There are 6 houses, numbered 1 to 6 from left ...   \n",
       "4    lgp-test-2x2-33  2*2  There are 2 houses, numbered 1 to 2 from left ...   \n",
       "..               ...  ...                                                ...   \n",
       "995   lgp-test-3x4-1  3*4  There are 3 houses, numbered 1 to 3 from left ...   \n",
       "996  lgp-test-5x5-39  5*5  There are 5 houses, numbered 1 to 5 from left ...   \n",
       "997  lgp-test-2x2-25  2*2  There are 2 houses, numbered 1 to 2 from left ...   \n",
       "998  lgp-test-2x4-34  2*4  There are 2 houses, numbered 1 to 2 from left ...   \n",
       "999  lgp-test-5x3-14  5*3  There are 5 houses, numbered 1 to 5 from left ...   \n",
       "\n",
       "                                              solution  \\\n",
       "0    {'header': ['House', 'Name', 'Nationality', 'B...   \n",
       "1    {'header': ['House', 'Name', 'Occupation', 'Bo...   \n",
       "2    {'header': ['House', 'Name', 'Children', 'Musi...   \n",
       "3    {'header': ['House', 'Name', 'Mother', 'Childr...   \n",
       "4    {'header': ['House', 'Name', 'Pet'], 'rows': [...   \n",
       "..                                                 ...   \n",
       "995  {'header': ['House', 'Name', 'Animal', 'Cigar'...   \n",
       "996  {'header': ['House', 'Name', 'Birthday', 'Moth...   \n",
       "997  {'header': ['House', 'Name', 'Vacation'], 'row...   \n",
       "998  {'header': ['House', 'Name', 'PhoneModel', 'Oc...   \n",
       "999  {'header': ['House', 'Name', 'Color', 'Cigar']...   \n",
       "\n",
       "                     created_at  \n",
       "0    2024-07-03T21:21:29.209499  \n",
       "1    2024-07-03T21:21:29.207505  \n",
       "2    2024-07-03T21:21:29.210360  \n",
       "3    2024-07-03T21:21:29.210554  \n",
       "4    2024-07-03T21:21:29.204640  \n",
       "..                          ...  \n",
       "995  2024-07-03T21:21:29.206002  \n",
       "996  2024-07-03T21:21:29.209334  \n",
       "997  2024-07-03T21:21:29.204603  \n",
       "998  2024-07-03T21:21:29.205053  \n",
       "999  2024-07-03T21:21:29.208547  \n",
       "\n",
       "[1000 rows x 5 columns]"
      ]
     },
     "execution_count": 3,
     "metadata": {},
     "output_type": "execute_result"
    }
   ],
   "source": [
    "\n",
    "import duckdb\n",
    "\n",
    "con = duckdb.connect()\n",
    "con.execute(\"INSTALL httpfs;\")\n",
    "con.execute(\"LOAD httpfs;\")\n",
    "\n",
    "con.sql(f'''\n",
    "    SELECT * from '{urls[0]}'\n",
    "''').df()"
   ]
  },
  {
   "cell_type": "code",
   "execution_count": 55,
   "id": "4adafca9",
   "metadata": {},
   "outputs": [
    {
     "data": {
      "text/plain": [
       "{'id': 'lgp-test-2x2-0',\n",
       " 'puzzle': 'There are 2 houses, numbered 1 to 2 from left to right, as seen from across the street. Each house is occupied by a different person. Each house has a unique attribute for each of the following characteristics:\\n - Each person has a unique name: `Arnold`, `Eric`\\n - People have unique favorite music genres: `pop`, `rock`\\n\\n## Clues:\\n1. Eric is not in the first house.\\n2. Eric is the person who loves rock music.\\n',\n",
       " 'solution': {'header': ['House', 'Name', 'MusicGenre'],\n",
       "  'rows': [['1', 'Arnold', 'pop'], ['2', 'Eric', 'rock']]}}"
      ]
     },
     "execution_count": 55,
     "metadata": {},
     "output_type": "execute_result"
    }
   ],
   "source": [
    "import duckdb\n",
    "\n",
    "con = duckdb.connect()\n",
    "data = con.sql(f'''\n",
    "    SELECT id, puzzle, solution from 'datasets/zebra_grid_mode.parquet' where size='2*2' order by created_at, id\n",
    "''').df()\n",
    "\n",
    "data.iloc[0].to_dict()"
   ]
  },
  {
   "cell_type": "code",
   "execution_count": 43,
   "id": "05ab23c7",
   "metadata": {},
   "outputs": [
    {
     "data": {
      "text/markdown": [
       "# Test: lgp-test-2x2-0"
      ],
      "text/plain": [
       "<IPython.core.display.Markdown object>"
      ]
     },
     "metadata": {},
     "output_type": "display_data"
    },
    {
     "data": {
      "text/markdown": [
       "There are 2 houses, numbered 1 to 2 from left to right, as seen from across the street. Each house is occupied by a different person. Each house has a unique attribute for each of the following characteristics:\n",
       " - Each person has a unique name: `Arnold`, `Eric`\n",
       " - People have unique favorite music genres: `pop`, `rock`\n",
       "\n",
       "## Clues:\n",
       "1. Eric is not in the first house.\n",
       "2. Eric is the person who loves rock music.\n"
      ],
      "text/plain": [
       "<IPython.core.display.Markdown object>"
      ]
     },
     "metadata": {},
     "output_type": "display_data"
    },
    {
     "data": {
      "text/markdown": [
       "# Solution"
      ],
      "text/plain": [
       "<IPython.core.display.Markdown object>"
      ]
     },
     "metadata": {},
     "output_type": "display_data"
    },
    {
     "data": {
      "text/html": [
       "<div>\n",
       "<style scoped>\n",
       "    .dataframe tbody tr th:only-of-type {\n",
       "        vertical-align: middle;\n",
       "    }\n",
       "\n",
       "    .dataframe tbody tr th {\n",
       "        vertical-align: top;\n",
       "    }\n",
       "\n",
       "    .dataframe thead th {\n",
       "        text-align: right;\n",
       "    }\n",
       "</style>\n",
       "<table border=\"1\" class=\"dataframe\">\n",
       "  <thead>\n",
       "    <tr style=\"text-align: right;\">\n",
       "      <th></th>\n",
       "      <th>House</th>\n",
       "      <th>Name</th>\n",
       "      <th>MusicGenre</th>\n",
       "    </tr>\n",
       "  </thead>\n",
       "  <tbody>\n",
       "    <tr>\n",
       "      <th>0</th>\n",
       "      <td>1</td>\n",
       "      <td>Arnold</td>\n",
       "      <td>pop</td>\n",
       "    </tr>\n",
       "    <tr>\n",
       "      <th>1</th>\n",
       "      <td>2</td>\n",
       "      <td>Eric</td>\n",
       "      <td>rock</td>\n",
       "    </tr>\n",
       "  </tbody>\n",
       "</table>\n",
       "</div>"
      ],
      "text/plain": [
       "  House    Name MusicGenre\n",
       "0     1  Arnold        pop\n",
       "1     2    Eric       rock"
      ]
     },
     "metadata": {},
     "output_type": "display_data"
    }
   ],
   "source": [
    "import pandas as pd\n",
    "from IPython.display import Markdown\n",
    "\n",
    "df_row = data.iloc[0]\n",
    "df_sol = pd.DataFrame(df_row['solution']['rows'], columns=df_row['solution']['header'])\n",
    "\n",
    "display(Markdown('# Test: ' + df_row['id'] ))\n",
    "display(Markdown(df_row['puzzle']))\n",
    "display(Markdown('# Solution'))\n",
    "display(df_sol)"
   ]
  },
  {
   "cell_type": "code",
   "execution_count": null,
   "id": "8aeb79bc",
   "metadata": {},
   "outputs": [
    {
     "name": "stdout",
     "output_type": "stream",
     "text": [
      "\n",
      "# Example Puzzle \n",
      "\n",
      "There are 3 houses, numbered 1 to 3 from left to right, as seen from across the street. Each house is occupied by a different person. Each house has a unique attribute for each of the following characteristics:\n",
      " - Each person has a unique name: `Peter`, `Eric`, `Arnold`.\n",
      " - Each person has a unique favorite drink: `tea`, `water`, `milk`\n",
      "\n",
      "## Clues for the Example Puzzle\n",
      "\n",
      "1. Peter is in the second house.\n",
      "2. Arnold is directly left of the one who only drinks water.\n",
      "3. The one who only drinks water is directly left of the person who likes milk.\n",
      "\n",
      "## Answer to the Example Puzzle\n",
      "\n",
      "{\n",
      "    \"reasoning\": \"Given Clue 1, we know Peter is in House 2. According to Clue 2, Arnold is directly left of the one who only drinks water. The person in House 3 cannot be on the left of anyone, so Arnold must be in House 1. Thus, Peter drinks water, and Eric lives in House 3. Then, according to Clue 3, Eric drinks milk. Therefore, Arnold drinks tea.\",\n",
      "    \"solution\": {\n",
      "        \"House 1\": {\n",
      "            \"Name\": \"Arnold\",\n",
      "            \"Drink\": \"tea\"\n",
      "        },\n",
      "        \"House 2\": {\n",
      "            \"Name\": \"Peter\",\n",
      "            \"Drink\": \"water\"\n",
      "        },\n",
      "        \"House 3\": {\n",
      "            \"Name\": \"Eric\",\n",
      "            \"Drink\": \"milk\"\n",
      "        }\n",
      "    }\n",
      "}\n",
      "\n",
      "# Puzzle to Solve \n",
      "\n",
      "There are 2 houses, numbered 1 to 2 from left to right, as seen from across the street. Each house is occupied by a different person. Each house has a unique attribute for each of the following characteristics:\n",
      " - Each person has a unique name: `Arnold`, `Eric`\n",
      " - People have unique heights: `short`, `very short`\n",
      "\n",
      "## Clues:\n",
      "1. Arnold is in the first house.\n",
      "2. The person who is short is Arnold.\n",
      "\n",
      "\n",
      "\n",
      "# Instruction\n",
      "\n",
      "Now please solve the above puzzle. Present your reasoning and solution in the following json format:\n",
      "\n",
      "{\n",
      "    \"reasoning\": \"___\",\n",
      "    \"solution\": {\n",
      "        \"House 1\": {\n",
      "            \"Name\": \"___\",\n",
      "            \"Height\": \"___\"\n",
      "        },\n",
      "        \"House 2\": {\n",
      "            \"Name\": \"___\",\n",
      "            \"Height\": \"___\"\n",
      "        }\n",
      "    }\n",
      "}\n",
      "\n",
      "\n",
      "----------------------------------------------------------------------------------------------------\n",
      "{\n",
      "  \"header\": [\n",
      "    \"House\",\n",
      "    \"Name\",\n",
      "    \"Height\"\n",
      "  ],\n",
      "  \"rows\": [\n",
      "    [\n",
      "      \"1\",\n",
      "      \"Arnold\",\n",
      "      \"short\"\n",
      "    ],\n",
      "    [\n",
      "      \"2\",\n",
      "      \"Eric\",\n",
      "      \"very short\"\n",
      "    ]\n",
      "  ]\n",
      "}\n",
      "{'House 1': {'Name': 'Arnold', 'Height': 'short'}, 'House 2': {'Name': 'Eric', 'Height': 'very short'}}\n"
     ]
    }
   ],
   "source": [
    "import json\n",
    "import random\n",
    "from zebra_template import ZEBRA_GRID\n",
    "\n",
    "# As is from ZeroEval\n",
    "def apply_lgp_grid_template(item):\n",
    "    prompt_str = ZEBRA_GRID[:]\n",
    "    prompt_str = prompt_str.replace(\"{puzzle}\", item[\"puzzle\"])\n",
    "    num_houses = len(item[\"solution\"][\"rows\"])\n",
    "    columns = item[\"solution\"][\"header\"]\n",
    "    assert columns[0] == \"House\"\n",
    "    json_template = {\"reasoning\": \"___\", \"solution\": {}}\n",
    "    for i in range(num_houses):\n",
    "        json_template[\"solution\"][f'House {i+1}'] = {columns[j]: \"___\" for j in range(1, len(columns))}\n",
    "    json_str = json.dumps(json_template, indent=4)\n",
    "    prompt_str = prompt_str.replace(\"{json_template}\", json_str)\n",
    "    return prompt_str\n",
    "\n",
    "# Writen by Strang\n",
    "def apply_lgp_grid_solution(item):\n",
    "    solution_comparable = dict()\n",
    "    for row in item['solution']['rows']:\n",
    "        key = item['solution']['header'][0] + ' ' + row[0]\n",
    "        obj = dict()\n",
    "        ix = 1\n",
    "        for colname in item['solution']['header'][1:]:\n",
    "            obj[colname] = row[ix]\n",
    "            ix += 1\n",
    "        solution_comparable[key] = obj\n",
    "    return solution_comparable\n",
    "\n",
    "# Modified based on data\n",
    "def zebra_test():\n",
    "    #dataset = load_dataset(\"allenai/ZebraLogicBench\", \"grid_mode\", split=\"test\")\n",
    "    #dataset = list(data)\n",
    "    dataset = data.to_dict(orient='records')\n",
    "    # shuffule\n",
    "    random.shuffle(dataset)\n",
    "    for item in dataset:\n",
    "        print(apply_lgp_grid_template(item))\n",
    "        print(\"-\"*100)\n",
    "        print(json.dumps(item[\"solution\"], indent=2))\n",
    "        print(apply_lgp_grid_solution(item))\n",
    "        break\n",
    "\n",
    "\n",
    "zebra_test()"
   ]
  },
  {
   "cell_type": "code",
   "execution_count": null,
   "id": "04959dd4",
   "metadata": {},
   "outputs": [
    {
     "data": {
      "text/plain": [
       "['{  \"model_info\": {\\n    \"name\": \"Qwen\",\\n    \"version\": \"3.0\",\\n    \"type\": \"Large Language Model\",\\n    \"training_data\": {\\n      \"range\": \"Pre-training data cutoff date is December 2024\",\\n      \"source\": \"Internally confidential\"\\n    },\\n    \"parameters\": \"Internally confidential\",\\n    \"language_support\": {\\n      \"primary\": \"Chinese, English\",\\n      \"others\": \"Over 100 languages\"\\n    },\\n    \"capabilities\": [\\n      \"Text generation\",\\n      \"Code writing\",\\n      \"Multi-language support\",\\n      \"Dialogue understanding\",\\n      \"Reasoning and problem-solving\"\\n    ],\\n    \"note\": \"Some information is confidential and cannot be disclosed.\"\\n  }\\n}']"
      ]
     },
     "metadata": {},
     "output_type": "display_data"
    },
    {
     "data": {
      "text/markdown": [
       "{  \"model_info\": {\n",
       "    \"name\": \"Qwen\",\n",
       "    \"version\": \"3.0\",\n",
       "    \"type\": \"Large Language Model\",\n",
       "    \"training_data\": {\n",
       "      \"range\": \"Pre-training data cutoff date is December 2024\",\n",
       "      \"source\": \"Internally confidential\"\n",
       "    },\n",
       "    \"parameters\": \"Internally confidential\",\n",
       "    \"language_support\": {\n",
       "      \"primary\": \"Chinese, English\",\n",
       "      \"others\": \"Over 100 languages\"\n",
       "    },\n",
       "    \"capabilities\": [\n",
       "      \"Text generation\",\n",
       "      \"Code writing\",\n",
       "      \"Multi-language support\",\n",
       "      \"Dialogue understanding\",\n",
       "      \"Reasoning and problem-solving\"\n",
       "    ],\n",
       "    \"note\": \"Some information is confidential and cannot be disclosed.\"\n",
       "  }\n",
       "}"
      ],
      "text/plain": [
       "<IPython.core.display.Markdown object>"
      ]
     },
     "metadata": {},
     "output_type": "display_data"
    }
   ],
   "source": [
    "import zebra_utils as zebra_utils\n",
    "\n",
    "#from importlib import reload\n",
    "#reload(zebra)\n",
    "\n",
    "#model = 'qwen-qwq-32b@groq'\n",
    "model = 'qwen/qwen3-32b@groq'\n",
    "#model = 'deepseek-r1-distill-llama-70b@groq'\n",
    "prompt = 'Your model info in json'\n",
    "\n",
    "answer,t,u = zebra_utils.openai_chat_request(model, temperature=0.6, top_p=0.95, prompt=prompt, json_mode=True) #\n",
    "\n",
    "display(answer)\n",
    "display(Markdown(answer[0]))"
   ]
  },
  {
   "cell_type": "code",
   "execution_count": null,
   "id": "8802db6f",
   "metadata": {},
   "outputs": [
    {
     "data": {
      "text/plain": [
       "'\\n# Example Puzzle \\n\\nThere are 3 houses, numbered 1 to 3 from left to right, as seen from across the street. Each house is occupied by a different person. Each house has a unique attribute for each of the following characteristics:\\n - Each person has a unique name: `Peter`, `Eric`, `Arnold`.\\n - Each person has a unique favorite drink: `tea`, `water`, `milk`\\n\\n## Clues for the Example Puzzle\\n\\n1. Peter is in the second house.\\n2. Arnold is directly left of the one who only drinks water.\\n3. The one who only drinks water is directly left of the person who likes milk.\\n\\n## Answer to the Example Puzzle\\n\\n{\\n    \"reasoning\": \"Given Clue 1, we know Peter is in House 2. According to Clue 2, Arnold is directly left of the one who only drinks water. The person in House 3 cannot be on the left of anyone, so Arnold must be in House 1. Thus, Peter drinks water, and Eric lives in House 3. Then, according to Clue 3, Eric drinks milk. Therefore, Arnold drinks tea.\",\\n    \"solution\": {\\n        \"House 1\": {\\n            \"Name\": \"Arnold\",\\n            \"Drink\": \"tea\"\\n        },\\n        \"House 2\": {\\n            \"Name\": \"Peter\",\\n            \"Drink\": \"water\"\\n        },\\n        \"House 3\": {\\n            \"Name\": \"Eric\",\\n            \"Drink\": \"milk\"\\n        }\\n    }\\n}\\n\\n# Puzzle to Solve \\n\\nThere are 2 houses, numbered 1 to 2 from left to right, as seen from across the street. Each house is occupied by a different person. Each house has a unique attribute for each of the following characteristics:\\n - Each person has a unique name: `Arnold`, `Eric`\\n - People have unique favorite music genres: `pop`, `rock`\\n\\n## Clues:\\n1. Eric is not in the first house.\\n2. Eric is the person who loves rock music.\\n\\n\\n\\n# Instruction\\n\\nNow please solve the above puzzle. Present your reasoning and solution in the following json format:\\n\\n{\\n    \"reasoning\": \"___\",\\n    \"solution\": {\\n        \"House 1\": {\\n            \"Name\": \"___\",\\n            \"MusicGenre\": \"___\"\\n        },\\n        \"House 2\": {\\n            \"Name\": \"___\",\\n            \"MusicGenre\": \"___\"\\n        }\\n    }\\n}\\n\\n'"
      ]
     },
     "metadata": {},
     "output_type": "display_data"
    },
    {
     "data": {
      "text/markdown": [
       "\n",
       "# Example Puzzle \n",
       "\n",
       "There are 3 houses, numbered 1 to 3 from left to right, as seen from across the street. Each house is occupied by a different person. Each house has a unique attribute for each of the following characteristics:\n",
       " - Each person has a unique name: `Peter`, `Eric`, `Arnold`.\n",
       " - Each person has a unique favorite drink: `tea`, `water`, `milk`\n",
       "\n",
       "## Clues for the Example Puzzle\n",
       "\n",
       "1. Peter is in the second house.\n",
       "2. Arnold is directly left of the one who only drinks water.\n",
       "3. The one who only drinks water is directly left of the person who likes milk.\n",
       "\n",
       "## Answer to the Example Puzzle\n",
       "\n",
       "{\n",
       "    \"reasoning\": \"Given Clue 1, we know Peter is in House 2. According to Clue 2, Arnold is directly left of the one who only drinks water. The person in House 3 cannot be on the left of anyone, so Arnold must be in House 1. Thus, Peter drinks water, and Eric lives in House 3. Then, according to Clue 3, Eric drinks milk. Therefore, Arnold drinks tea.\",\n",
       "    \"solution\": {\n",
       "        \"House 1\": {\n",
       "            \"Name\": \"Arnold\",\n",
       "            \"Drink\": \"tea\"\n",
       "        },\n",
       "        \"House 2\": {\n",
       "            \"Name\": \"Peter\",\n",
       "            \"Drink\": \"water\"\n",
       "        },\n",
       "        \"House 3\": {\n",
       "            \"Name\": \"Eric\",\n",
       "            \"Drink\": \"milk\"\n",
       "        }\n",
       "    }\n",
       "}\n",
       "\n",
       "# Puzzle to Solve \n",
       "\n",
       "There are 2 houses, numbered 1 to 2 from left to right, as seen from across the street. Each house is occupied by a different person. Each house has a unique attribute for each of the following characteristics:\n",
       " - Each person has a unique name: `Arnold`, `Eric`\n",
       " - People have unique favorite music genres: `pop`, `rock`\n",
       "\n",
       "## Clues:\n",
       "1. Eric is not in the first house.\n",
       "2. Eric is the person who loves rock music.\n",
       "\n",
       "\n",
       "\n",
       "# Instruction\n",
       "\n",
       "Now please solve the above puzzle. Present your reasoning and solution in the following json format:\n",
       "\n",
       "{\n",
       "    \"reasoning\": \"___\",\n",
       "    \"solution\": {\n",
       "        \"House 1\": {\n",
       "            \"Name\": \"___\",\n",
       "            \"MusicGenre\": \"___\"\n",
       "        },\n",
       "        \"House 2\": {\n",
       "            \"Name\": \"___\",\n",
       "            \"MusicGenre\": \"___\"\n",
       "        }\n",
       "    }\n",
       "}\n",
       "\n"
      ],
      "text/plain": [
       "<IPython.core.display.Markdown object>"
      ]
     },
     "metadata": {},
     "output_type": "display_data"
    },
    {
     "name": "stdout",
     "output_type": "stream",
     "text": [
      "  House    Name MusicGenre\n",
      "0     1  Arnold        pop\n",
      "1     2    Eric       rock\n"
     ]
    },
    {
     "data": {
      "text/plain": [
       "['{    \"reasoning\": \"Clue 1 states Eric is not in the first house, so he must be in House 2. This leaves Arnold in House 1. Clue 2 specifies Eric loves rock music, so House 2 has rock. Arnold in House 1 must therefore prefer pop, the remaining genre.\",\\n    \"solution\": {\\n        \"House 1\": {\\n            \"Name\": \"Arnold\",\\n            \"MusicGenre\": \"pop\"\\n        },\\n        \"House 2\": {\\n            \"Name\": \"Eric\",\\n            \"MusicGenre\": \"rock\"\\n        }\\n    }\\n}']"
      ]
     },
     "metadata": {},
     "output_type": "display_data"
    },
    {
     "data": {
      "text/markdown": [
       "{    \"reasoning\": \"Clue 1 states Eric is not in the first house, so he must be in House 2. This leaves Arnold in House 1. Clue 2 specifies Eric loves rock music, so House 2 has rock. Arnold in House 1 must therefore prefer pop, the remaining genre.\",\n",
       "    \"solution\": {\n",
       "        \"House 1\": {\n",
       "            \"Name\": \"Arnold\",\n",
       "            \"MusicGenre\": \"pop\"\n",
       "        },\n",
       "        \"House 2\": {\n",
       "            \"Name\": \"Eric\",\n",
       "            \"MusicGenre\": \"rock\"\n",
       "        }\n",
       "    }\n",
       "}"
      ],
      "text/plain": [
       "<IPython.core.display.Markdown object>"
      ]
     },
     "metadata": {},
     "output_type": "display_data"
    }
   ],
   "source": [
    "prompt = apply_lgp_grid_template(df_row)\n",
    "model = 'qwen/qwen3-32b@groq'\n",
    "\n",
    "display(prompt)\n",
    "display(Markdown(prompt))\n",
    "print(df_sol)\n",
    "\n",
    "answer = zebra_utils.openai_chat_request(model, temperature=0.6, top_p=0.95, prompt=prompt, json_mode=True) #\n",
    "\n",
    "display(answer)\n",
    "display(Markdown(answer[0]))\n"
   ]
  },
  {
   "cell_type": "code",
   "execution_count": null,
   "id": "405d5104",
   "metadata": {},
   "outputs": [
    {
     "name": "stdout",
     "output_type": "stream",
     "text": [
      "{'House 1': {'Name': 'Arnold', 'MusicGenre': 'pop'}, 'House 2': {'Name': 'Eric', 'MusicGenre': 'rock'}}\n",
      "{'House 1': {'Name': 'Arnold', 'MusicGenre': 'pop'}, 'House 2': {'Name': 'Eric', 'MusicGenre': 'rock'}}\n"
     ]
    },
    {
     "data": {
      "text/plain": [
       "True"
      ]
     },
     "execution_count": 118,
     "metadata": {},
     "output_type": "execute_result"
    }
   ],
   "source": [
    "# Just comparison experiment\n",
    "\n",
    "x = json.loads('{\"House 1\": {\"Name\": \"Arnold\", \"MusicGenre\": \"pop\"}, \"House 2\": {\"Name\": \"Eric\", \"MusicGenre\": \"rock\"} }')\n",
    "print(x)\n",
    "\n",
    "y = apply_lgp_grid_solution(df_row)\n",
    "print(y)\n",
    "\n",
    "x == y"
   ]
  },
  {
   "cell_type": "code",
   "execution_count": null,
   "id": "88cb6802",
   "metadata": {},
   "outputs": [
    {
     "data": {
      "text/plain": [
       "True"
      ]
     },
     "execution_count": 121,
     "metadata": {},
     "output_type": "execute_result"
    }
   ],
   "source": [
    "# Compare solution expected and answered from model\n",
    "\n",
    "solution_expected = apply_lgp_grid_solution(df_row)\n",
    "solution_answered = json.loads(answer[0])['solution']\n",
    "\n",
    "solution_expected == solution_answered"
   ]
  },
  {
   "cell_type": "code",
   "execution_count": null,
   "id": "800e7329",
   "metadata": {},
   "outputs": [
    {
     "data": {
      "text/plain": [
       "'\\n# Example Puzzle \\n\\nThere are 3 houses, numbered 1 to 3 from left to right, as seen from across the street. Each house is occupied by a different person. Each house has a unique attribute for each of the following characteristics:\\n - Each person has a unique name: `Peter`, `Eric`, `Arnold`.\\n - Each person has a unique favorite drink: `tea`, `water`, `milk`\\n\\n## Clues for the Example Puzzle\\n\\n1. Peter is in the second house.\\n2. Arnold is directly left of the one who only drinks water.\\n3. The one who only drinks water is directly left of the person who likes milk.\\n\\n## Answer to the Example Puzzle\\n\\n{\\n    \"reasoning\": \"Given Clue 1, we know Peter is in House 2. According to Clue 2, Arnold is directly left of the one who only drinks water. The person in House 3 cannot be on the left of anyone, so Arnold must be in House 1. Thus, Peter drinks water, and Eric lives in House 3. Then, according to Clue 3, Eric drinks milk. Therefore, Arnold drinks tea.\",\\n    \"solution\": {\\n        \"House 1\": {\\n            \"Name\": \"Arnold\",\\n            \"Drink\": \"tea\"\\n        },\\n        \"House 2\": {\\n            \"Name\": \"Peter\",\\n            \"Drink\": \"water\"\\n        },\\n        \"House 3\": {\\n            \"Name\": \"Eric\",\\n            \"Drink\": \"milk\"\\n        }\\n    }\\n}\\n\\n# Puzzle to Solve \\n\\nThere are 2 houses, numbered 1 to 2 from left to right, as seen from across the street. Each house is occupied by a different person. Each house has a unique attribute for each of the following characteristics:\\n - Each person has a unique name: `Arnold`, `Eric`\\n - People have unique favorite music genres: `pop`, `rock`\\n\\n## Clues:\\n1. Eric is not in the first house.\\n2. Eric is the person who loves rock music.\\n\\n\\n\\n# Instruction\\n\\nNow please solve the above puzzle. Present your reasoning and solution in the following json format:\\n\\n{\\n    \"reasoning\": \"___\",\\n    \"solution\": {\\n        \"House 1\": {\\n            \"Name\": \"___\",\\n            \"MusicGenre\": \"___\"\\n        },\\n        \"House 2\": {\\n            \"Name\": \"___\",\\n            \"MusicGenre\": \"___\"\\n        }\\n    }\\n}\\n\\n'"
      ]
     },
     "metadata": {},
     "output_type": "display_data"
    },
    {
     "data": {
      "text/markdown": [
       "# Model: allam-2-7b@groq"
      ],
      "text/plain": [
       "<IPython.core.display.Markdown object>"
      ]
     },
     "metadata": {},
     "output_type": "display_data"
    },
    {
     "data": {
      "text/markdown": [
       "\n",
       "# Example Puzzle \n",
       "\n",
       "There are 3 houses, numbered 1 to 3 from left to right, as seen from across the street. Each house is occupied by a different person. Each house has a unique attribute for each of the following characteristics:\n",
       " - Each person has a unique name: `Peter`, `Eric`, `Arnold`.\n",
       " - Each person has a unique favorite drink: `tea`, `water`, `milk`\n",
       "\n",
       "## Clues for the Example Puzzle\n",
       "\n",
       "1. Peter is in the second house.\n",
       "2. Arnold is directly left of the one who only drinks water.\n",
       "3. The one who only drinks water is directly left of the person who likes milk.\n",
       "\n",
       "## Answer to the Example Puzzle\n",
       "\n",
       "{\n",
       "    \"reasoning\": \"Given Clue 1, we know Peter is in House 2. According to Clue 2, Arnold is directly left of the one who only drinks water. The person in House 3 cannot be on the left of anyone, so Arnold must be in House 1. Thus, Peter drinks water, and Eric lives in House 3. Then, according to Clue 3, Eric drinks milk. Therefore, Arnold drinks tea.\",\n",
       "    \"solution\": {\n",
       "        \"House 1\": {\n",
       "            \"Name\": \"Arnold\",\n",
       "            \"Drink\": \"tea\"\n",
       "        },\n",
       "        \"House 2\": {\n",
       "            \"Name\": \"Peter\",\n",
       "            \"Drink\": \"water\"\n",
       "        },\n",
       "        \"House 3\": {\n",
       "            \"Name\": \"Eric\",\n",
       "            \"Drink\": \"milk\"\n",
       "        }\n",
       "    }\n",
       "}\n",
       "\n",
       "# Puzzle to Solve \n",
       "\n",
       "There are 2 houses, numbered 1 to 2 from left to right, as seen from across the street. Each house is occupied by a different person. Each house has a unique attribute for each of the following characteristics:\n",
       " - Each person has a unique name: `Arnold`, `Eric`\n",
       " - People have unique favorite music genres: `pop`, `rock`\n",
       "\n",
       "## Clues:\n",
       "1. Eric is not in the first house.\n",
       "2. Eric is the person who loves rock music.\n",
       "\n",
       "\n",
       "\n",
       "# Instruction\n",
       "\n",
       "Now please solve the above puzzle. Present your reasoning and solution in the following json format:\n",
       "\n",
       "{\n",
       "    \"reasoning\": \"___\",\n",
       "    \"solution\": {\n",
       "        \"House 1\": {\n",
       "            \"Name\": \"___\",\n",
       "            \"MusicGenre\": \"___\"\n",
       "        },\n",
       "        \"House 2\": {\n",
       "            \"Name\": \"___\",\n",
       "            \"MusicGenre\": \"___\"\n",
       "        }\n",
       "    }\n",
       "}\n",
       "\n"
      ],
      "text/plain": [
       "<IPython.core.display.Markdown object>"
      ]
     },
     "metadata": {},
     "output_type": "display_data"
    },
    {
     "data": {
      "text/plain": [
       "['{\\n    \"reasoning\": \"Let\\'s use the given clues to determine the occupants of the houses.\\\\n1. Since Eric is not in the first house (Clue 1), he must be in the second house.\\\\n2. Eric loves rock music (Clue 2). Since Eric is in the second house, the person in the first house can\\'t have rock music, and the person in the third house can\\'t have rock music either because Eric does.\\\\n3. The person in the first house must have pop music because Eric loves rock music and the person in the third house can\\'t have rock music.\",\\n    \"solution\": {\\n        \"House 1\": {\\n            \"Name\": \"Arnold\",\\n            \"MusicGenre\": \"pop\"\\n        },\\n        \"House 2\": {\\n            \"Name\": \"Eric\",\\n            \"MusicGenre\": \"rock\"\\n        },\\n        \"House 3\": {\\n            \"Name\": \"Arnold\",\\n            \"MusicGenre\": \"pop\"\\n        }\\n    }\\n}']"
      ]
     },
     "metadata": {},
     "output_type": "display_data"
    },
    {
     "data": {
      "text/markdown": [
       "{\n",
       "    \"reasoning\": \"Let's use the given clues to determine the occupants of the houses.\\n1. Since Eric is not in the first house (Clue 1), he must be in the second house.\\n2. Eric loves rock music (Clue 2). Since Eric is in the second house, the person in the first house can't have rock music, and the person in the third house can't have rock music either because Eric does.\\n3. The person in the first house must have pop music because Eric loves rock music and the person in the third house can't have rock music.\",\n",
       "    \"solution\": {\n",
       "        \"House 1\": {\n",
       "            \"Name\": \"Arnold\",\n",
       "            \"MusicGenre\": \"pop\"\n",
       "        },\n",
       "        \"House 2\": {\n",
       "            \"Name\": \"Eric\",\n",
       "            \"MusicGenre\": \"rock\"\n",
       "        },\n",
       "        \"House 3\": {\n",
       "            \"Name\": \"Arnold\",\n",
       "            \"MusicGenre\": \"pop\"\n",
       "        }\n",
       "    }\n",
       "}"
      ],
      "text/plain": [
       "<IPython.core.display.Markdown object>"
      ]
     },
     "metadata": {},
     "output_type": "display_data"
    },
    {
     "name": "stdout",
     "output_type": "stream",
     "text": [
      "Expected: {'House 1': {'Name': 'Arnold', 'MusicGenre': 'pop'}, 'House 2': {'Name': 'Eric', 'MusicGenre': 'rock'}}\n",
      "Answered: {'House 1': {'Name': 'Arnold', 'MusicGenre': 'pop'}, 'House 2': {'Name': 'Eric', 'MusicGenre': 'rock'}, 'House 3': {'Name': 'Arnold', 'MusicGenre': 'pop'}}\n"
     ]
    },
    {
     "data": {
      "text/plain": [
       "False"
      ]
     },
     "execution_count": 126,
     "metadata": {},
     "output_type": "execute_result"
    }
   ],
   "source": [
    "# See available models at https://console.groq.com/docs/models\n",
    "\n",
    "prompt = apply_lgp_grid_template(df_row)\n",
    "#model = 'deepseek-r1-distill-llama-70b@groq'\n",
    "#model = 'llama-3.3-70b-versatile@groq'\n",
    "#model = 'llama3-8b-8192@groq'\n",
    "#model = 'gemma2-9b-it@groq'\n",
    "model = 'allam-2-7b@groq'\n",
    "\n",
    "display(prompt)\n",
    "display(Markdown('# Model: ' + model))\n",
    "display(Markdown(prompt))\n",
    "\n",
    "answer,t,u = zebra_utils.openai_chat_request(model, temperature=0.6, top_p=0.95, prompt=prompt, json_mode=True) #\n",
    "\n",
    "display(answer)\n",
    "display(Markdown(answer[0]))\n",
    "\n",
    "solution_expected = apply_lgp_grid_solution(df_row)\n",
    "solution_answered = json.loads(answer[0])['solution']\n",
    "print('Expected:', solution_expected)\n",
    "print('Answered:', solution_answered)\n",
    "\n",
    "solution_expected == solution_answered\n"
   ]
  }
 ],
 "metadata": {
  "kernelspec": {
   "display_name": "Python 3",
   "language": "python",
   "name": "python3"
  },
  "language_info": {
   "codemirror_mode": {
    "name": "ipython",
    "version": 3
   },
   "file_extension": ".py",
   "mimetype": "text/x-python",
   "name": "python",
   "nbconvert_exporter": "python",
   "pygments_lexer": "ipython3",
   "version": "3.10.4"
  }
 },
 "nbformat": 4,
 "nbformat_minor": 5
}
